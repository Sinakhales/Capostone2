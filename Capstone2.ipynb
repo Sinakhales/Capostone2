{
 "cells": [
  {
   "cell_type": "markdown",
   "id": "411214be",
   "metadata": {},
   "source": [
    "# 1. Capstone2 (Data Wrangling)<a id='2.1_Contents'></a>\n",
    "1. Data imports\n",
    "2. Data loading\n",
    "3. Data definition and preparation"
   ]
  },
  {
   "cell_type": "markdown",
   "id": "c978ffc8",
   "metadata": {},
   "source": [
    "## Data imports"
   ]
  },
  {
   "cell_type": "code",
   "execution_count": 1,
   "id": "67f22cfa",
   "metadata": {},
   "outputs": [],
   "source": [
    "import os\n",
    "import pandas as pd\n",
    "import numpy as np\n",
    "import matplotlib.pyplot as plt\n",
    "import seaborn as sns\n",
    "from datetime import timedelta\n",
    "from termcolor import colored"
   ]
  },
  {
   "cell_type": "markdown",
   "id": "4748c64b",
   "metadata": {},
   "source": [
    "## Data loading"
   ]
  },
  {
   "cell_type": "code",
   "execution_count": 2,
   "id": "0fad6880",
   "metadata": {},
   "outputs": [
    {
     "name": "stdout",
     "output_type": "stream",
     "text": [
      "['BTC-USD.csv', 'CPI.csv', 'Gold.csv', 'S&P500.csv']\n"
     ]
    }
   ],
   "source": [
    "os.chdir(r\"C:\\Springboard_Materials\\Capstone 2\\data\")\n",
    "print(os.listdir())"
   ]
  },
  {
   "cell_type": "code",
   "execution_count": 3,
   "id": "3f13796d",
   "metadata": {},
   "outputs": [
    {
     "data": {
      "text/html": [
       "<div>\n",
       "<style scoped>\n",
       "    .dataframe tbody tr th:only-of-type {\n",
       "        vertical-align: middle;\n",
       "    }\n",
       "\n",
       "    .dataframe tbody tr th {\n",
       "        vertical-align: top;\n",
       "    }\n",
       "\n",
       "    .dataframe thead th {\n",
       "        text-align: right;\n",
       "    }\n",
       "</style>\n",
       "<table border=\"1\" class=\"dataframe\">\n",
       "  <thead>\n",
       "    <tr style=\"text-align: right;\">\n",
       "      <th></th>\n",
       "      <th>Open</th>\n",
       "      <th>High</th>\n",
       "      <th>Low</th>\n",
       "      <th>Close</th>\n",
       "      <th>Adj Close</th>\n",
       "      <th>Volume</th>\n",
       "    </tr>\n",
       "    <tr>\n",
       "      <th>Date</th>\n",
       "      <th></th>\n",
       "      <th></th>\n",
       "      <th></th>\n",
       "      <th></th>\n",
       "      <th></th>\n",
       "      <th></th>\n",
       "    </tr>\n",
       "  </thead>\n",
       "  <tbody>\n",
       "    <tr>\n",
       "      <th>2017-01-01</th>\n",
       "      <td>963.658020</td>\n",
       "      <td>1003.080017</td>\n",
       "      <td>958.698975</td>\n",
       "      <td>998.325012</td>\n",
       "      <td>998.325012</td>\n",
       "      <td>147775008.0</td>\n",
       "    </tr>\n",
       "    <tr>\n",
       "      <th>2017-01-02</th>\n",
       "      <td>998.617004</td>\n",
       "      <td>1031.390015</td>\n",
       "      <td>996.702026</td>\n",
       "      <td>1021.750000</td>\n",
       "      <td>1021.750000</td>\n",
       "      <td>222184992.0</td>\n",
       "    </tr>\n",
       "    <tr>\n",
       "      <th>2017-01-03</th>\n",
       "      <td>1021.599976</td>\n",
       "      <td>1044.079956</td>\n",
       "      <td>1021.599976</td>\n",
       "      <td>1043.839966</td>\n",
       "      <td>1043.839966</td>\n",
       "      <td>185168000.0</td>\n",
       "    </tr>\n",
       "    <tr>\n",
       "      <th>2017-01-04</th>\n",
       "      <td>1044.400024</td>\n",
       "      <td>1159.420044</td>\n",
       "      <td>1044.400024</td>\n",
       "      <td>1154.729980</td>\n",
       "      <td>1154.729980</td>\n",
       "      <td>344945984.0</td>\n",
       "    </tr>\n",
       "    <tr>\n",
       "      <th>2017-01-05</th>\n",
       "      <td>1156.729980</td>\n",
       "      <td>1191.099976</td>\n",
       "      <td>910.416992</td>\n",
       "      <td>1013.380005</td>\n",
       "      <td>1013.380005</td>\n",
       "      <td>510199008.0</td>\n",
       "    </tr>\n",
       "  </tbody>\n",
       "</table>\n",
       "</div>"
      ],
      "text/plain": [
       "                   Open         High          Low        Close    Adj Close  \\\n",
       "Date                                                                          \n",
       "2017-01-01   963.658020  1003.080017   958.698975   998.325012   998.325012   \n",
       "2017-01-02   998.617004  1031.390015   996.702026  1021.750000  1021.750000   \n",
       "2017-01-03  1021.599976  1044.079956  1021.599976  1043.839966  1043.839966   \n",
       "2017-01-04  1044.400024  1159.420044  1044.400024  1154.729980  1154.729980   \n",
       "2017-01-05  1156.729980  1191.099976   910.416992  1013.380005  1013.380005   \n",
       "\n",
       "                 Volume  \n",
       "Date                     \n",
       "2017-01-01  147775008.0  \n",
       "2017-01-02  222184992.0  \n",
       "2017-01-03  185168000.0  \n",
       "2017-01-04  344945984.0  \n",
       "2017-01-05  510199008.0  "
      ]
     },
     "metadata": {},
     "output_type": "display_data"
    },
    {
     "name": "stdout",
     "output_type": "stream",
     "text": [
      "<class 'pandas.core.frame.DataFrame'>\n",
      "DatetimeIndex: 2191 entries, 2017-01-01 to 2022-12-31\n",
      "Data columns (total 6 columns):\n",
      " #   Column     Non-Null Count  Dtype  \n",
      "---  ------     --------------  -----  \n",
      " 0   Open       2191 non-null   float64\n",
      " 1   High       2191 non-null   float64\n",
      " 2   Low        2191 non-null   float64\n",
      " 3   Close      2191 non-null   float64\n",
      " 4   Adj Close  2191 non-null   float64\n",
      " 5   Volume     2191 non-null   float64\n",
      "dtypes: float64(6)\n",
      "memory usage: 119.8 KB\n",
      "None\n"
     ]
    }
   ],
   "source": [
    "bitcoin_prices=pd.read_csv(r\"BTC-USD.csv\", index_col=['Date'], parse_dates=['Date'])\n",
    "display(bitcoin_prices.head())\n",
    "print(bitcoin_prices.info())"
   ]
  },
  {
   "cell_type": "code",
   "execution_count": 4,
   "id": "84be9a9c",
   "metadata": {},
   "outputs": [
    {
     "data": {
      "text/html": [
       "<div>\n",
       "<style scoped>\n",
       "    .dataframe tbody tr th:only-of-type {\n",
       "        vertical-align: middle;\n",
       "    }\n",
       "\n",
       "    .dataframe tbody tr th {\n",
       "        vertical-align: top;\n",
       "    }\n",
       "\n",
       "    .dataframe thead th {\n",
       "        text-align: right;\n",
       "    }\n",
       "</style>\n",
       "<table border=\"1\" class=\"dataframe\">\n",
       "  <thead>\n",
       "    <tr style=\"text-align: right;\">\n",
       "      <th></th>\n",
       "      <th>Open</th>\n",
       "      <th>High</th>\n",
       "      <th>Low</th>\n",
       "      <th>Close</th>\n",
       "      <th>Adj Close</th>\n",
       "      <th>Volume</th>\n",
       "    </tr>\n",
       "    <tr>\n",
       "      <th>Date</th>\n",
       "      <th></th>\n",
       "      <th></th>\n",
       "      <th></th>\n",
       "      <th></th>\n",
       "      <th></th>\n",
       "      <th></th>\n",
       "    </tr>\n",
       "  </thead>\n",
       "  <tbody>\n",
       "    <tr>\n",
       "      <th>2017-01-03</th>\n",
       "      <td>2,251.57</td>\n",
       "      <td>2,263.88</td>\n",
       "      <td>2,245.13</td>\n",
       "      <td>2,257.83</td>\n",
       "      <td>2,257.83</td>\n",
       "      <td>3,773,010,000</td>\n",
       "    </tr>\n",
       "    <tr>\n",
       "      <th>2017-01-04</th>\n",
       "      <td>2,261.60</td>\n",
       "      <td>2,272.82</td>\n",
       "      <td>2,261.60</td>\n",
       "      <td>2,270.75</td>\n",
       "      <td>2,270.75</td>\n",
       "      <td>3,768,890,000</td>\n",
       "    </tr>\n",
       "    <tr>\n",
       "      <th>2017-01-05</th>\n",
       "      <td>2,268.18</td>\n",
       "      <td>2,271.50</td>\n",
       "      <td>2,260.45</td>\n",
       "      <td>2,269.00</td>\n",
       "      <td>2,269.00</td>\n",
       "      <td>3,785,080,000</td>\n",
       "    </tr>\n",
       "    <tr>\n",
       "      <th>2017-01-06</th>\n",
       "      <td>2,271.14</td>\n",
       "      <td>2,282.10</td>\n",
       "      <td>2,264.06</td>\n",
       "      <td>2,276.98</td>\n",
       "      <td>2,276.98</td>\n",
       "      <td>3,342,080,000</td>\n",
       "    </tr>\n",
       "    <tr>\n",
       "      <th>2017-01-09</th>\n",
       "      <td>2,273.59</td>\n",
       "      <td>2,275.49</td>\n",
       "      <td>2,268.90</td>\n",
       "      <td>2,268.90</td>\n",
       "      <td>2,268.90</td>\n",
       "      <td>3,219,730,000</td>\n",
       "    </tr>\n",
       "  </tbody>\n",
       "</table>\n",
       "</div>"
      ],
      "text/plain": [
       "                Open      High       Low     Close Adj Close         Volume\n",
       "Date                                                                       \n",
       "2017-01-03  2,251.57  2,263.88  2,245.13  2,257.83  2,257.83  3,773,010,000\n",
       "2017-01-04  2,261.60  2,272.82  2,261.60  2,270.75  2,270.75  3,768,890,000\n",
       "2017-01-05  2,268.18  2,271.50  2,260.45  2,269.00  2,269.00  3,785,080,000\n",
       "2017-01-06  2,271.14  2,282.10  2,264.06  2,276.98  2,276.98  3,342,080,000\n",
       "2017-01-09  2,273.59  2,275.49  2,268.90  2,268.90  2,268.90  3,219,730,000"
      ]
     },
     "metadata": {},
     "output_type": "display_data"
    },
    {
     "name": "stdout",
     "output_type": "stream",
     "text": [
      "<class 'pandas.core.frame.DataFrame'>\n",
      "DatetimeIndex: 1509 entries, 2017-01-03 to 2022-12-29\n",
      "Data columns (total 6 columns):\n",
      " #   Column     Non-Null Count  Dtype \n",
      "---  ------     --------------  ----- \n",
      " 0   Open       1509 non-null   object\n",
      " 1   High       1509 non-null   object\n",
      " 2   Low        1509 non-null   object\n",
      " 3   Close      1509 non-null   object\n",
      " 4   Adj Close  1509 non-null   object\n",
      " 5   Volume     1509 non-null   object\n",
      "dtypes: object(6)\n",
      "memory usage: 82.5+ KB\n",
      "None\n"
     ]
    }
   ],
   "source": [
    "sp500_prices=pd.read_csv(r\"S&P500.csv\", parse_dates=['Date'], index_col=['Date'])\n",
    "display(sp500_prices.head())\n",
    "print(sp500_prices.info())"
   ]
  },
  {
   "cell_type": "code",
   "execution_count": 5,
   "id": "327d6071",
   "metadata": {},
   "outputs": [],
   "source": [
    "sp500_prices.replace(',', '', regex=True, inplace=True)"
   ]
  },
  {
   "cell_type": "code",
   "execution_count": 6,
   "id": "eec2e4af",
   "metadata": {},
   "outputs": [
    {
     "name": "stdout",
     "output_type": "stream",
     "text": [
      "<class 'pandas.core.frame.DataFrame'>\n",
      "DatetimeIndex: 1509 entries, 2017-01-03 to 2022-12-29\n",
      "Data columns (total 6 columns):\n",
      " #   Column     Non-Null Count  Dtype  \n",
      "---  ------     --------------  -----  \n",
      " 0   Open       1509 non-null   float64\n",
      " 1   High       1509 non-null   float64\n",
      " 2   Low        1509 non-null   float64\n",
      " 3   Close      1509 non-null   float64\n",
      " 4   Adj Close  1509 non-null   float64\n",
      " 5   Volume     1509 non-null   float64\n",
      "dtypes: float64(6)\n",
      "memory usage: 82.5 KB\n"
     ]
    }
   ],
   "source": [
    "# All data should be numeric\n",
    "for col in sp500_prices.columns:\n",
    "    sp500_prices[col]=sp500_prices[col].astype('float64')\n",
    "sp500_prices.info()"
   ]
  },
  {
   "cell_type": "code",
   "execution_count": 7,
   "id": "e9f097f3",
   "metadata": {},
   "outputs": [
    {
     "data": {
      "text/html": [
       "<div>\n",
       "<style scoped>\n",
       "    .dataframe tbody tr th:only-of-type {\n",
       "        vertical-align: middle;\n",
       "    }\n",
       "\n",
       "    .dataframe tbody tr th {\n",
       "        vertical-align: top;\n",
       "    }\n",
       "\n",
       "    .dataframe thead th {\n",
       "        text-align: right;\n",
       "    }\n",
       "</style>\n",
       "<table border=\"1\" class=\"dataframe\">\n",
       "  <thead>\n",
       "    <tr style=\"text-align: right;\">\n",
       "      <th></th>\n",
       "      <th>Year</th>\n",
       "      <th>Jan</th>\n",
       "      <th>Feb</th>\n",
       "      <th>Mar</th>\n",
       "      <th>Apr</th>\n",
       "      <th>May</th>\n",
       "      <th>June</th>\n",
       "      <th>July</th>\n",
       "      <th>Aug</th>\n",
       "      <th>Sep</th>\n",
       "      <th>Oct</th>\n",
       "      <th>Nov</th>\n",
       "      <th>Dec</th>\n",
       "    </tr>\n",
       "  </thead>\n",
       "  <tbody>\n",
       "    <tr>\n",
       "      <th>0</th>\n",
       "      <td>1913</td>\n",
       "      <td>9.8</td>\n",
       "      <td>9.8</td>\n",
       "      <td>9.8</td>\n",
       "      <td>9.8</td>\n",
       "      <td>9.7</td>\n",
       "      <td>9.8</td>\n",
       "      <td>9.9</td>\n",
       "      <td>9.9</td>\n",
       "      <td>10.0</td>\n",
       "      <td>10.0</td>\n",
       "      <td>10.1</td>\n",
       "      <td>10.0</td>\n",
       "    </tr>\n",
       "    <tr>\n",
       "      <th>1</th>\n",
       "      <td>1914</td>\n",
       "      <td>10.0</td>\n",
       "      <td>9.9</td>\n",
       "      <td>9.9</td>\n",
       "      <td>9.8</td>\n",
       "      <td>9.9</td>\n",
       "      <td>9.9</td>\n",
       "      <td>10.0</td>\n",
       "      <td>10.2</td>\n",
       "      <td>10.2</td>\n",
       "      <td>10.1</td>\n",
       "      <td>10.2</td>\n",
       "      <td>10.1</td>\n",
       "    </tr>\n",
       "    <tr>\n",
       "      <th>2</th>\n",
       "      <td>1915</td>\n",
       "      <td>10.1</td>\n",
       "      <td>10.0</td>\n",
       "      <td>9.9</td>\n",
       "      <td>10.0</td>\n",
       "      <td>10.1</td>\n",
       "      <td>10.1</td>\n",
       "      <td>10.1</td>\n",
       "      <td>10.1</td>\n",
       "      <td>10.1</td>\n",
       "      <td>10.2</td>\n",
       "      <td>10.3</td>\n",
       "      <td>10.3</td>\n",
       "    </tr>\n",
       "    <tr>\n",
       "      <th>3</th>\n",
       "      <td>1916</td>\n",
       "      <td>10.4</td>\n",
       "      <td>10.4</td>\n",
       "      <td>10.5</td>\n",
       "      <td>10.6</td>\n",
       "      <td>10.7</td>\n",
       "      <td>10.8</td>\n",
       "      <td>10.8</td>\n",
       "      <td>10.9</td>\n",
       "      <td>11.1</td>\n",
       "      <td>11.3</td>\n",
       "      <td>11.5</td>\n",
       "      <td>11.6</td>\n",
       "    </tr>\n",
       "    <tr>\n",
       "      <th>4</th>\n",
       "      <td>1917</td>\n",
       "      <td>11.7</td>\n",
       "      <td>12.0</td>\n",
       "      <td>12.0</td>\n",
       "      <td>12.6</td>\n",
       "      <td>12.8</td>\n",
       "      <td>13.0</td>\n",
       "      <td>12.8</td>\n",
       "      <td>13.0</td>\n",
       "      <td>13.3</td>\n",
       "      <td>13.5</td>\n",
       "      <td>13.5</td>\n",
       "      <td>13.7</td>\n",
       "    </tr>\n",
       "  </tbody>\n",
       "</table>\n",
       "</div>"
      ],
      "text/plain": [
       "   Year   Jan   Feb   Mar   Apr   May  June  July   Aug   Sep   Oct   Nov  \\\n",
       "0  1913   9.8   9.8   9.8   9.8   9.7   9.8   9.9   9.9  10.0  10.0  10.1   \n",
       "1  1914  10.0   9.9   9.9   9.8   9.9   9.9  10.0  10.2  10.2  10.1  10.2   \n",
       "2  1915  10.1  10.0   9.9  10.0  10.1  10.1  10.1  10.1  10.1  10.2  10.3   \n",
       "3  1916  10.4  10.4  10.5  10.6  10.7  10.8  10.8  10.9  11.1  11.3  11.5   \n",
       "4  1917  11.7  12.0  12.0  12.6  12.8  13.0  12.8  13.0  13.3  13.5  13.5   \n",
       "\n",
       "    Dec  \n",
       "0  10.0  \n",
       "1  10.1  \n",
       "2  10.3  \n",
       "3  11.6  \n",
       "4  13.7  "
      ]
     },
     "metadata": {},
     "output_type": "display_data"
    }
   ],
   "source": [
    "cpi=pd.read_csv(r\"CPI.csv\", header=1)\n",
    "cpi.dropna(axis=1, how='all', inplace=True)\n",
    "cpi.drop(['Dec-Dec', 'Avg-Avg', 'Avg'], axis=1, inplace=True)\n",
    "display(cpi.head())"
   ]
  },
  {
   "cell_type": "code",
   "execution_count": 8,
   "id": "62881740",
   "metadata": {},
   "outputs": [
    {
     "name": "stdout",
     "output_type": "stream",
     "text": [
      "<class 'pandas.core.frame.DataFrame'>\n",
      "Int64Index: 6 entries, 104 to 109\n",
      "Data columns (total 13 columns):\n",
      " #   Column  Non-Null Count  Dtype  \n",
      "---  ------  --------------  -----  \n",
      " 0   Year    6 non-null      int64  \n",
      " 1   Jan     6 non-null      float64\n",
      " 2   Feb     6 non-null      object \n",
      " 3   Mar     6 non-null      float64\n",
      " 4   Apr     6 non-null      float64\n",
      " 5   May     6 non-null      float64\n",
      " 6   June    6 non-null      float64\n",
      " 7   July    6 non-null      float64\n",
      " 8   Aug     6 non-null      float64\n",
      " 9   Sep     6 non-null      float64\n",
      " 10  Oct     6 non-null      float64\n",
      " 11  Nov     6 non-null      float64\n",
      " 12  Dec     6 non-null      float64\n",
      "dtypes: float64(11), int64(1), object(1)\n",
      "memory usage: 672.0+ bytes\n"
     ]
    }
   ],
   "source": [
    "cpi=cpi.loc[np.logical_and(cpi.Year>2016, cpi.Year<2023)]\n",
    "cpi.info()"
   ]
  },
  {
   "cell_type": "code",
   "execution_count": 9,
   "id": "14eb43ee",
   "metadata": {},
   "outputs": [],
   "source": [
    "cpi.Feb=cpi.Feb.astype('float64')"
   ]
  },
  {
   "cell_type": "code",
   "execution_count": 10,
   "id": "6e895a79",
   "metadata": {},
   "outputs": [],
   "source": [
    "cpi=cpi.melt(id_vars='Year', var_name='Month', value_name='cpi')"
   ]
  },
  {
   "cell_type": "code",
   "execution_count": 11,
   "id": "9d5a185c",
   "metadata": {},
   "outputs": [
    {
     "data": {
      "text/html": [
       "<div>\n",
       "<style scoped>\n",
       "    .dataframe tbody tr th:only-of-type {\n",
       "        vertical-align: middle;\n",
       "    }\n",
       "\n",
       "    .dataframe tbody tr th {\n",
       "        vertical-align: top;\n",
       "    }\n",
       "\n",
       "    .dataframe thead th {\n",
       "        text-align: right;\n",
       "    }\n",
       "</style>\n",
       "<table border=\"1\" class=\"dataframe\">\n",
       "  <thead>\n",
       "    <tr style=\"text-align: right;\">\n",
       "      <th></th>\n",
       "      <th>cpi</th>\n",
       "    </tr>\n",
       "    <tr>\n",
       "      <th>Date</th>\n",
       "      <th></th>\n",
       "    </tr>\n",
       "  </thead>\n",
       "  <tbody>\n",
       "    <tr>\n",
       "      <th>2017-01-01</th>\n",
       "      <td>242.839</td>\n",
       "    </tr>\n",
       "    <tr>\n",
       "      <th>2018-01-01</th>\n",
       "      <td>247.867</td>\n",
       "    </tr>\n",
       "    <tr>\n",
       "      <th>2019-01-01</th>\n",
       "      <td>251.712</td>\n",
       "    </tr>\n",
       "    <tr>\n",
       "      <th>2020-01-01</th>\n",
       "      <td>257.971</td>\n",
       "    </tr>\n",
       "    <tr>\n",
       "      <th>2021-01-01</th>\n",
       "      <td>261.582</td>\n",
       "    </tr>\n",
       "  </tbody>\n",
       "</table>\n",
       "</div>"
      ],
      "text/plain": [
       "                cpi\n",
       "Date               \n",
       "2017-01-01  242.839\n",
       "2018-01-01  247.867\n",
       "2019-01-01  251.712\n",
       "2020-01-01  257.971\n",
       "2021-01-01  261.582"
      ]
     },
     "metadata": {},
     "output_type": "display_data"
    },
    {
     "name": "stdout",
     "output_type": "stream",
     "text": [
      "<class 'pandas.core.frame.DataFrame'>\n",
      "DatetimeIndex: 72 entries, 2017-01-01 to 2022-12-01\n",
      "Data columns (total 1 columns):\n",
      " #   Column  Non-Null Count  Dtype  \n",
      "---  ------  --------------  -----  \n",
      " 0   cpi     72 non-null     float64\n",
      "dtypes: float64(1)\n",
      "memory usage: 1.1 KB\n",
      "None\n"
     ]
    }
   ],
   "source": [
    "cpi.Year=cpi.Year.astype(str)\n",
    "cpi['Date']=cpi.Month+\" \"+cpi.Year\n",
    "cpi.drop(['Year', 'Month'], axis=1, inplace=True)\n",
    "cpi['Date']= pd.to_datetime(cpi.Date)\n",
    "cpi.set_index('Date', inplace=True)\n",
    "display(cpi.head())\n",
    "print(cpi.info())"
   ]
  },
  {
   "cell_type": "code",
   "execution_count": 12,
   "id": "6e2fa191",
   "metadata": {},
   "outputs": [
    {
     "data": {
      "text/html": [
       "<div>\n",
       "<style scoped>\n",
       "    .dataframe tbody tr th:only-of-type {\n",
       "        vertical-align: middle;\n",
       "    }\n",
       "\n",
       "    .dataframe tbody tr th {\n",
       "        vertical-align: top;\n",
       "    }\n",
       "\n",
       "    .dataframe thead th {\n",
       "        text-align: right;\n",
       "    }\n",
       "</style>\n",
       "<table border=\"1\" class=\"dataframe\">\n",
       "  <thead>\n",
       "    <tr style=\"text-align: right;\">\n",
       "      <th></th>\n",
       "      <th>Open</th>\n",
       "      <th>High</th>\n",
       "      <th>Low</th>\n",
       "      <th>Close</th>\n",
       "      <th>Adj Close</th>\n",
       "      <th>Volume</th>\n",
       "    </tr>\n",
       "    <tr>\n",
       "      <th>Date</th>\n",
       "      <th></th>\n",
       "      <th></th>\n",
       "      <th></th>\n",
       "      <th></th>\n",
       "      <th></th>\n",
       "      <th></th>\n",
       "    </tr>\n",
       "  </thead>\n",
       "  <tbody>\n",
       "    <tr>\n",
       "      <th>2017-01-03</th>\n",
       "      <td>1,155.20</td>\n",
       "      <td>1,160.80</td>\n",
       "      <td>1,146.50</td>\n",
       "      <td>1,160.40</td>\n",
       "      <td>1,160.40</td>\n",
       "      <td>52</td>\n",
       "    </tr>\n",
       "    <tr>\n",
       "      <th>2017-01-04</th>\n",
       "      <td>1,156.30</td>\n",
       "      <td>1,165.00</td>\n",
       "      <td>1,156.30</td>\n",
       "      <td>1,163.80</td>\n",
       "      <td>1,163.80</td>\n",
       "      <td>36</td>\n",
       "    </tr>\n",
       "    <tr>\n",
       "      <th>2017-01-05</th>\n",
       "      <td>1,172.00</td>\n",
       "      <td>1,183.30</td>\n",
       "      <td>1,171.50</td>\n",
       "      <td>1,179.70</td>\n",
       "      <td>1,179.70</td>\n",
       "      <td>500</td>\n",
       "    </tr>\n",
       "    <tr>\n",
       "      <th>2017-01-06</th>\n",
       "      <td>1,176.50</td>\n",
       "      <td>1,176.50</td>\n",
       "      <td>1,171.90</td>\n",
       "      <td>1,171.90</td>\n",
       "      <td>1,171.90</td>\n",
       "      <td>16</td>\n",
       "    </tr>\n",
       "    <tr>\n",
       "      <th>2017-01-09</th>\n",
       "      <td>1,173.90</td>\n",
       "      <td>1,183.60</td>\n",
       "      <td>1,173.00</td>\n",
       "      <td>1,183.50</td>\n",
       "      <td>1,183.50</td>\n",
       "      <td>62</td>\n",
       "    </tr>\n",
       "  </tbody>\n",
       "</table>\n",
       "</div>"
      ],
      "text/plain": [
       "                Open      High       Low     Close Adj Close Volume\n",
       "Date                                                               \n",
       "2017-01-03  1,155.20  1,160.80  1,146.50  1,160.40  1,160.40     52\n",
       "2017-01-04  1,156.30  1,165.00  1,156.30  1,163.80  1,163.80     36\n",
       "2017-01-05  1,172.00  1,183.30  1,171.50  1,179.70  1,179.70    500\n",
       "2017-01-06  1,176.50  1,176.50  1,171.90  1,171.90  1,171.90     16\n",
       "2017-01-09  1,173.90  1,183.60  1,173.00  1,183.50  1,183.50     62"
      ]
     },
     "metadata": {},
     "output_type": "display_data"
    },
    {
     "name": "stdout",
     "output_type": "stream",
     "text": [
      "<class 'pandas.core.frame.DataFrame'>\n",
      "DatetimeIndex: 1516 entries, 2017-01-03 to 2022-12-30\n",
      "Data columns (total 6 columns):\n",
      " #   Column     Non-Null Count  Dtype \n",
      "---  ------     --------------  ----- \n",
      " 0   Open       1516 non-null   object\n",
      " 1   High       1516 non-null   object\n",
      " 2   Low        1516 non-null   object\n",
      " 3   Close      1516 non-null   object\n",
      " 4   Adj Close  1516 non-null   object\n",
      " 5   Volume     1516 non-null   object\n",
      "dtypes: object(6)\n",
      "memory usage: 82.9+ KB\n",
      "None\n"
     ]
    }
   ],
   "source": [
    "gold=pd.read_csv(r\"Gold.csv\",parse_dates=['Date'], index_col=['Date']).sort_index()\n",
    "gold.columns=bitcoin_prices.columns\n",
    "display(gold.head())\n",
    "print(gold.info())"
   ]
  },
  {
   "cell_type": "code",
   "execution_count": 13,
   "id": "b004f15d",
   "metadata": {},
   "outputs": [],
   "source": [
    "gold.replace(',', '', regex=True, inplace=True)\n",
    "gold.replace('-', np.nan, regex=True, inplace=True)"
   ]
  },
  {
   "cell_type": "code",
   "execution_count": 14,
   "id": "3ef5bad8",
   "metadata": {},
   "outputs": [
    {
     "data": {
      "text/html": [
       "<div>\n",
       "<style scoped>\n",
       "    .dataframe tbody tr th:only-of-type {\n",
       "        vertical-align: middle;\n",
       "    }\n",
       "\n",
       "    .dataframe tbody tr th {\n",
       "        vertical-align: top;\n",
       "    }\n",
       "\n",
       "    .dataframe thead th {\n",
       "        text-align: right;\n",
       "    }\n",
       "</style>\n",
       "<table border=\"1\" class=\"dataframe\">\n",
       "  <thead>\n",
       "    <tr style=\"text-align: right;\">\n",
       "      <th></th>\n",
       "      <th>Open</th>\n",
       "      <th>High</th>\n",
       "      <th>Low</th>\n",
       "      <th>Close</th>\n",
       "      <th>Adj Close</th>\n",
       "      <th>Volume</th>\n",
       "    </tr>\n",
       "    <tr>\n",
       "      <th>Date</th>\n",
       "      <th></th>\n",
       "      <th></th>\n",
       "      <th></th>\n",
       "      <th></th>\n",
       "      <th></th>\n",
       "      <th></th>\n",
       "    </tr>\n",
       "  </thead>\n",
       "  <tbody>\n",
       "    <tr>\n",
       "      <th>2017-01-03</th>\n",
       "      <td>1155.20</td>\n",
       "      <td>1160.80</td>\n",
       "      <td>1146.50</td>\n",
       "      <td>1160.40</td>\n",
       "      <td>1160.40</td>\n",
       "      <td>52</td>\n",
       "    </tr>\n",
       "    <tr>\n",
       "      <th>2017-01-04</th>\n",
       "      <td>1156.30</td>\n",
       "      <td>1165.00</td>\n",
       "      <td>1156.30</td>\n",
       "      <td>1163.80</td>\n",
       "      <td>1163.80</td>\n",
       "      <td>36</td>\n",
       "    </tr>\n",
       "    <tr>\n",
       "      <th>2017-01-05</th>\n",
       "      <td>1172.00</td>\n",
       "      <td>1183.30</td>\n",
       "      <td>1171.50</td>\n",
       "      <td>1179.70</td>\n",
       "      <td>1179.70</td>\n",
       "      <td>500</td>\n",
       "    </tr>\n",
       "    <tr>\n",
       "      <th>2017-01-06</th>\n",
       "      <td>1176.50</td>\n",
       "      <td>1176.50</td>\n",
       "      <td>1171.90</td>\n",
       "      <td>1171.90</td>\n",
       "      <td>1171.90</td>\n",
       "      <td>16</td>\n",
       "    </tr>\n",
       "    <tr>\n",
       "      <th>2017-01-09</th>\n",
       "      <td>1173.90</td>\n",
       "      <td>1183.60</td>\n",
       "      <td>1173.00</td>\n",
       "      <td>1183.50</td>\n",
       "      <td>1183.50</td>\n",
       "      <td>62</td>\n",
       "    </tr>\n",
       "    <tr>\n",
       "      <th>...</th>\n",
       "      <td>...</td>\n",
       "      <td>...</td>\n",
       "      <td>...</td>\n",
       "      <td>...</td>\n",
       "      <td>...</td>\n",
       "      <td>...</td>\n",
       "    </tr>\n",
       "    <tr>\n",
       "      <th>2022-12-26</th>\n",
       "      <td>NaN</td>\n",
       "      <td>NaN</td>\n",
       "      <td>NaN</td>\n",
       "      <td>NaN</td>\n",
       "      <td>NaN</td>\n",
       "      <td>NaN</td>\n",
       "    </tr>\n",
       "    <tr>\n",
       "      <th>2022-12-27</th>\n",
       "      <td>1803.40</td>\n",
       "      <td>1826.30</td>\n",
       "      <td>1803.40</td>\n",
       "      <td>1814.80</td>\n",
       "      <td>1814.80</td>\n",
       "      <td>69</td>\n",
       "    </tr>\n",
       "    <tr>\n",
       "      <th>2022-12-28</th>\n",
       "      <td>1803.20</td>\n",
       "      <td>1807.90</td>\n",
       "      <td>1803.10</td>\n",
       "      <td>1807.90</td>\n",
       "      <td>1807.90</td>\n",
       "      <td>434</td>\n",
       "    </tr>\n",
       "    <tr>\n",
       "      <th>2022-12-29</th>\n",
       "      <td>1805.80</td>\n",
       "      <td>1819.50</td>\n",
       "      <td>1805.80</td>\n",
       "      <td>1819.50</td>\n",
       "      <td>1819.50</td>\n",
       "      <td>277</td>\n",
       "    </tr>\n",
       "    <tr>\n",
       "      <th>2022-12-30</th>\n",
       "      <td>1817.00</td>\n",
       "      <td>1822.30</td>\n",
       "      <td>1816.80</td>\n",
       "      <td>1819.70</td>\n",
       "      <td>1819.70</td>\n",
       "      <td>95</td>\n",
       "    </tr>\n",
       "  </tbody>\n",
       "</table>\n",
       "<p>1516 rows × 6 columns</p>\n",
       "</div>"
      ],
      "text/plain": [
       "               Open     High      Low    Close Adj Close Volume\n",
       "Date                                                           \n",
       "2017-01-03  1155.20  1160.80  1146.50  1160.40   1160.40     52\n",
       "2017-01-04  1156.30  1165.00  1156.30  1163.80   1163.80     36\n",
       "2017-01-05  1172.00  1183.30  1171.50  1179.70   1179.70    500\n",
       "2017-01-06  1176.50  1176.50  1171.90  1171.90   1171.90     16\n",
       "2017-01-09  1173.90  1183.60  1173.00  1183.50   1183.50     62\n",
       "...             ...      ...      ...      ...       ...    ...\n",
       "2022-12-26      NaN      NaN      NaN      NaN       NaN    NaN\n",
       "2022-12-27  1803.40  1826.30  1803.40  1814.80   1814.80     69\n",
       "2022-12-28  1803.20  1807.90  1803.10  1807.90   1807.90    434\n",
       "2022-12-29  1805.80  1819.50  1805.80  1819.50   1819.50    277\n",
       "2022-12-30  1817.00  1822.30  1816.80  1819.70   1819.70     95\n",
       "\n",
       "[1516 rows x 6 columns]"
      ]
     },
     "execution_count": 14,
     "metadata": {},
     "output_type": "execute_result"
    }
   ],
   "source": [
    "gold"
   ]
  },
  {
   "cell_type": "code",
   "execution_count": 15,
   "id": "b1023469",
   "metadata": {},
   "outputs": [
    {
     "name": "stdout",
     "output_type": "stream",
     "text": [
      "<class 'pandas.core.frame.DataFrame'>\n",
      "DatetimeIndex: 1516 entries, 2017-01-03 to 2022-12-30\n",
      "Data columns (total 6 columns):\n",
      " #   Column     Non-Null Count  Dtype  \n",
      "---  ------     --------------  -----  \n",
      " 0   Open       1510 non-null   float64\n",
      " 1   High       1510 non-null   float64\n",
      " 2   Low        1510 non-null   float64\n",
      " 3   Close      1510 non-null   float64\n",
      " 4   Adj Close  1510 non-null   float64\n",
      " 5   Volume     1480 non-null   float64\n",
      "dtypes: float64(6)\n",
      "memory usage: 82.9 KB\n",
      "None\n"
     ]
    }
   ],
   "source": [
    "for col in gold.columns:\n",
    "    gold[col]=gold[col].astype('float64')\n",
    "print(gold.info())"
   ]
  },
  {
   "cell_type": "code",
   "execution_count": 16,
   "id": "8b9e9529",
   "metadata": {},
   "outputs": [
    {
     "data": {
      "text/html": [
       "<div>\n",
       "<style scoped>\n",
       "    .dataframe tbody tr th:only-of-type {\n",
       "        vertical-align: middle;\n",
       "    }\n",
       "\n",
       "    .dataframe tbody tr th {\n",
       "        vertical-align: top;\n",
       "    }\n",
       "\n",
       "    .dataframe thead th {\n",
       "        text-align: right;\n",
       "    }\n",
       "</style>\n",
       "<table border=\"1\" class=\"dataframe\">\n",
       "  <thead>\n",
       "    <tr style=\"text-align: right;\">\n",
       "      <th></th>\n",
       "      <th>Open</th>\n",
       "      <th>High</th>\n",
       "      <th>Low</th>\n",
       "      <th>Close</th>\n",
       "      <th>Adj Close</th>\n",
       "      <th>Volume</th>\n",
       "    </tr>\n",
       "    <tr>\n",
       "      <th>Date</th>\n",
       "      <th></th>\n",
       "      <th></th>\n",
       "      <th></th>\n",
       "      <th></th>\n",
       "      <th></th>\n",
       "      <th></th>\n",
       "    </tr>\n",
       "  </thead>\n",
       "  <tbody>\n",
       "    <tr>\n",
       "      <th>2017-01-31</th>\n",
       "      <td>1194.9</td>\n",
       "      <td>1214.7</td>\n",
       "      <td>1193.5</td>\n",
       "      <td>1208.6</td>\n",
       "      <td>1208.6</td>\n",
       "      <td>3212.0</td>\n",
       "    </tr>\n",
       "    <tr>\n",
       "      <th>2017-02-28</th>\n",
       "      <td>1253.6</td>\n",
       "      <td>1257.3</td>\n",
       "      <td>1247.2</td>\n",
       "      <td>1252.6</td>\n",
       "      <td>1252.6</td>\n",
       "      <td>721.0</td>\n",
       "    </tr>\n",
       "    <tr>\n",
       "      <th>2017-03-31</th>\n",
       "      <td>1242.1</td>\n",
       "      <td>1248.8</td>\n",
       "      <td>1238.7</td>\n",
       "      <td>1247.3</td>\n",
       "      <td>1247.3</td>\n",
       "      <td>8223.0</td>\n",
       "    </tr>\n",
       "    <tr>\n",
       "      <th>2017-04-30</th>\n",
       "      <td>1268.7</td>\n",
       "      <td>1269.3</td>\n",
       "      <td>1253.3</td>\n",
       "      <td>1253.3</td>\n",
       "      <td>1253.3</td>\n",
       "      <td>34.0</td>\n",
       "    </tr>\n",
       "    <tr>\n",
       "      <th>2017-05-31</th>\n",
       "      <td>1268.0</td>\n",
       "      <td>1269.2</td>\n",
       "      <td>1260.8</td>\n",
       "      <td>1267.0</td>\n",
       "      <td>1267.0</td>\n",
       "      <td>825.0</td>\n",
       "    </tr>\n",
       "  </tbody>\n",
       "</table>\n",
       "</div>"
      ],
      "text/plain": [
       "              Open    High     Low   Close  Adj Close  Volume\n",
       "Date                                                         \n",
       "2017-01-31  1194.9  1214.7  1193.5  1208.6     1208.6  3212.0\n",
       "2017-02-28  1253.6  1257.3  1247.2  1252.6     1252.6   721.0\n",
       "2017-03-31  1242.1  1248.8  1238.7  1247.3     1247.3  8223.0\n",
       "2017-04-30  1268.7  1269.3  1253.3  1253.3     1253.3    34.0\n",
       "2017-05-31  1268.0  1269.2  1260.8  1267.0     1267.0   825.0"
      ]
     },
     "metadata": {},
     "output_type": "display_data"
    },
    {
     "name": "stdout",
     "output_type": "stream",
     "text": [
      "<class 'pandas.core.frame.DataFrame'>\n",
      "DatetimeIndex: 72 entries, 2017-01-31 to 2022-12-31\n",
      "Freq: M\n",
      "Data columns (total 6 columns):\n",
      " #   Column     Non-Null Count  Dtype  \n",
      "---  ------     --------------  -----  \n",
      " 0   Open       72 non-null     float64\n",
      " 1   High       72 non-null     float64\n",
      " 2   Low        72 non-null     float64\n",
      " 3   Close      72 non-null     float64\n",
      " 4   Adj Close  72 non-null     float64\n",
      " 5   Volume     72 non-null     float64\n",
      "dtypes: float64(6)\n",
      "memory usage: 3.9 KB\n",
      "None\n"
     ]
    }
   ],
   "source": [
    "gold_m=gold.resample('M').last()\n",
    "display(gold_m.head())\n",
    "print(gold_m.info())"
   ]
  },
  {
   "cell_type": "markdown",
   "id": "124f6b63",
   "metadata": {},
   "source": [
    "## Data definition and preparation"
   ]
  },
  {
   "cell_type": "markdown",
   "id": "036c2c4c",
   "metadata": {},
   "source": [
    "#### Note: We have daily bitcoin, and S&P500 data. While we have monthly inflation and gold data\n",
    "A check of the data source shows that CPI refers to prior month's inflation index (e.g. 2021-11-01 is October's data point). "
   ]
  },
  {
   "cell_type": "code",
   "execution_count": 17,
   "id": "d26c63b5",
   "metadata": {},
   "outputs": [],
   "source": [
    "daily_data=sp500_prices.merge(bitcoin_prices, left_index=True, right_index=True, suffixes=['_sp500', '_btc'])"
   ]
  },
  {
   "cell_type": "code",
   "execution_count": 18,
   "id": "d349f658",
   "metadata": {},
   "outputs": [
    {
     "name": "stdout",
     "output_type": "stream",
     "text": [
      "<class 'pandas.core.frame.DataFrame'>\n",
      "DatetimeIndex: 1509 entries, 2017-01-03 to 2022-12-29\n",
      "Data columns (total 12 columns):\n",
      " #   Column           Non-Null Count  Dtype  \n",
      "---  ------           --------------  -----  \n",
      " 0   Open_sp500       1509 non-null   float64\n",
      " 1   High_sp500       1509 non-null   float64\n",
      " 2   Low_sp500        1509 non-null   float64\n",
      " 3   Close_sp500      1509 non-null   float64\n",
      " 4   Adj Close_sp500  1509 non-null   float64\n",
      " 5   Volume_sp500     1509 non-null   float64\n",
      " 6   Open_btc         1509 non-null   float64\n",
      " 7   High_btc         1509 non-null   float64\n",
      " 8   Low_btc          1509 non-null   float64\n",
      " 9   Close_btc        1509 non-null   float64\n",
      " 10  Adj Close_btc    1509 non-null   float64\n",
      " 11  Volume_btc       1509 non-null   float64\n",
      "dtypes: float64(12)\n",
      "memory usage: 153.3 KB\n"
     ]
    }
   ],
   "source": [
    "daily_data.info()"
   ]
  },
  {
   "cell_type": "code",
   "execution_count": 19,
   "id": "5bf1e968",
   "metadata": {},
   "outputs": [],
   "source": [
    "cpi.sort_index(inplace=True)"
   ]
  },
  {
   "cell_type": "code",
   "execution_count": 20,
   "id": "ded176f6",
   "metadata": {},
   "outputs": [],
   "source": [
    "monthly_data=pd.merge_asof(gold_m, cpi, left_index=True, right_index=True, direction='nearest')"
   ]
  },
  {
   "cell_type": "code",
   "execution_count": 21,
   "id": "8ebf6b23",
   "metadata": {},
   "outputs": [
    {
     "data": {
      "text/html": [
       "<div>\n",
       "<style scoped>\n",
       "    .dataframe tbody tr th:only-of-type {\n",
       "        vertical-align: middle;\n",
       "    }\n",
       "\n",
       "    .dataframe tbody tr th {\n",
       "        vertical-align: top;\n",
       "    }\n",
       "\n",
       "    .dataframe thead th {\n",
       "        text-align: right;\n",
       "    }\n",
       "</style>\n",
       "<table border=\"1\" class=\"dataframe\">\n",
       "  <thead>\n",
       "    <tr style=\"text-align: right;\">\n",
       "      <th></th>\n",
       "      <th>Open</th>\n",
       "      <th>High</th>\n",
       "      <th>Low</th>\n",
       "      <th>Close</th>\n",
       "      <th>Adj Close</th>\n",
       "      <th>Volume</th>\n",
       "      <th>cpi</th>\n",
       "    </tr>\n",
       "    <tr>\n",
       "      <th>Date</th>\n",
       "      <th></th>\n",
       "      <th></th>\n",
       "      <th></th>\n",
       "      <th></th>\n",
       "      <th></th>\n",
       "      <th></th>\n",
       "      <th></th>\n",
       "    </tr>\n",
       "  </thead>\n",
       "  <tbody>\n",
       "    <tr>\n",
       "      <th>2017-01-31</th>\n",
       "      <td>1194.9</td>\n",
       "      <td>1214.7</td>\n",
       "      <td>1193.5</td>\n",
       "      <td>1208.6</td>\n",
       "      <td>1208.6</td>\n",
       "      <td>3212.0</td>\n",
       "      <td>243.603</td>\n",
       "    </tr>\n",
       "    <tr>\n",
       "      <th>2017-02-28</th>\n",
       "      <td>1253.6</td>\n",
       "      <td>1257.3</td>\n",
       "      <td>1247.2</td>\n",
       "      <td>1252.6</td>\n",
       "      <td>1252.6</td>\n",
       "      <td>721.0</td>\n",
       "      <td>243.801</td>\n",
       "    </tr>\n",
       "    <tr>\n",
       "      <th>2017-03-31</th>\n",
       "      <td>1242.1</td>\n",
       "      <td>1248.8</td>\n",
       "      <td>1238.7</td>\n",
       "      <td>1247.3</td>\n",
       "      <td>1247.3</td>\n",
       "      <td>8223.0</td>\n",
       "      <td>244.524</td>\n",
       "    </tr>\n",
       "    <tr>\n",
       "      <th>2017-04-30</th>\n",
       "      <td>1268.7</td>\n",
       "      <td>1269.3</td>\n",
       "      <td>1253.3</td>\n",
       "      <td>1253.3</td>\n",
       "      <td>1253.3</td>\n",
       "      <td>34.0</td>\n",
       "      <td>244.733</td>\n",
       "    </tr>\n",
       "    <tr>\n",
       "      <th>2017-05-31</th>\n",
       "      <td>1268.0</td>\n",
       "      <td>1269.2</td>\n",
       "      <td>1260.8</td>\n",
       "      <td>1267.0</td>\n",
       "      <td>1267.0</td>\n",
       "      <td>825.0</td>\n",
       "      <td>244.955</td>\n",
       "    </tr>\n",
       "  </tbody>\n",
       "</table>\n",
       "</div>"
      ],
      "text/plain": [
       "              Open    High     Low   Close  Adj Close  Volume      cpi\n",
       "Date                                                                  \n",
       "2017-01-31  1194.9  1214.7  1193.5  1208.6     1208.6  3212.0  243.603\n",
       "2017-02-28  1253.6  1257.3  1247.2  1252.6     1252.6   721.0  243.801\n",
       "2017-03-31  1242.1  1248.8  1238.7  1247.3     1247.3  8223.0  244.524\n",
       "2017-04-30  1268.7  1269.3  1253.3  1253.3     1253.3    34.0  244.733\n",
       "2017-05-31  1268.0  1269.2  1260.8  1267.0     1267.0   825.0  244.955"
      ]
     },
     "execution_count": 21,
     "metadata": {},
     "output_type": "execute_result"
    }
   ],
   "source": [
    "monthly_data.head()"
   ]
  },
  {
   "cell_type": "markdown",
   "id": "058ed14b",
   "metadata": {},
   "source": [
    "#### We only need the adjusted Close data"
   ]
  },
  {
   "cell_type": "code",
   "execution_count": 22,
   "id": "64c10ebb",
   "metadata": {},
   "outputs": [],
   "source": [
    "daily_data=daily_data[['Adj Close_sp500', 'Adj Close_btc']]\n",
    "monthly_data=monthly_data[['Adj Close', 'cpi']]\n",
    "monthly_data.rename(columns={'Adj Close': 'Adj Close_gold'}, inplace=True)"
   ]
  },
  {
   "cell_type": "markdown",
   "id": "68655c9b",
   "metadata": {},
   "source": [
    "# 2. Capstone2 (Exploratory Data Analysis)"
   ]
  },
  {
   "cell_type": "code",
   "execution_count": 23,
   "id": "7243472c",
   "metadata": {},
   "outputs": [],
   "source": [
    "# Convert daily data to monthly\n",
    "daily_data_to_m=daily_data.resample('M').last()"
   ]
  },
  {
   "cell_type": "code",
   "execution_count": 24,
   "id": "94d15d8d",
   "metadata": {},
   "outputs": [
    {
     "name": "stdout",
     "output_type": "stream",
     "text": [
      "<class 'pandas.core.frame.DataFrame'>\n",
      "DatetimeIndex: 72 entries, 2017-01-31 to 2022-12-31\n",
      "Freq: M\n",
      "Data columns (total 2 columns):\n",
      " #   Column           Non-Null Count  Dtype  \n",
      "---  ------           --------------  -----  \n",
      " 0   Adj Close_sp500  72 non-null     float64\n",
      " 1   Adj Close_btc    72 non-null     float64\n",
      "dtypes: float64(2)\n",
      "memory usage: 1.7 KB\n",
      "None \n",
      "\n",
      "<class 'pandas.core.frame.DataFrame'>\n",
      "DatetimeIndex: 72 entries, 2017-01-31 to 2022-12-31\n",
      "Freq: M\n",
      "Data columns (total 2 columns):\n",
      " #   Column          Non-Null Count  Dtype  \n",
      "---  ------          --------------  -----  \n",
      " 0   Adj Close_gold  72 non-null     float64\n",
      " 1   cpi             72 non-null     float64\n",
      "dtypes: float64(2)\n",
      "memory usage: 1.7 KB\n",
      "None\n"
     ]
    }
   ],
   "source": [
    "print(daily_data_to_m.info(), '\\n')\n",
    "print(monthly_data.info())"
   ]
  },
  {
   "cell_type": "code",
   "execution_count": 25,
   "id": "3a975368",
   "metadata": {},
   "outputs": [],
   "source": [
    "monthly_data=monthly_data.merge(daily_data_to_m, how='inner', left_index=True, right_index=True)"
   ]
  },
  {
   "cell_type": "code",
   "execution_count": 26,
   "id": "fbc2a323",
   "metadata": {},
   "outputs": [
    {
     "data": {
      "text/html": [
       "<div>\n",
       "<style scoped>\n",
       "    .dataframe tbody tr th:only-of-type {\n",
       "        vertical-align: middle;\n",
       "    }\n",
       "\n",
       "    .dataframe tbody tr th {\n",
       "        vertical-align: top;\n",
       "    }\n",
       "\n",
       "    .dataframe thead th {\n",
       "        text-align: right;\n",
       "    }\n",
       "</style>\n",
       "<table border=\"1\" class=\"dataframe\">\n",
       "  <thead>\n",
       "    <tr style=\"text-align: right;\">\n",
       "      <th></th>\n",
       "      <th>Adj Close_gold</th>\n",
       "      <th>cpi</th>\n",
       "      <th>Adj Close_sp500</th>\n",
       "      <th>Adj Close_btc</th>\n",
       "    </tr>\n",
       "    <tr>\n",
       "      <th>Date</th>\n",
       "      <th></th>\n",
       "      <th></th>\n",
       "      <th></th>\n",
       "      <th></th>\n",
       "    </tr>\n",
       "  </thead>\n",
       "  <tbody>\n",
       "    <tr>\n",
       "      <th>2017-01-31</th>\n",
       "      <td>1208.6</td>\n",
       "      <td>243.603</td>\n",
       "      <td>2278.87</td>\n",
       "      <td>970.403015</td>\n",
       "    </tr>\n",
       "    <tr>\n",
       "      <th>2017-02-28</th>\n",
       "      <td>1252.6</td>\n",
       "      <td>243.801</td>\n",
       "      <td>2363.64</td>\n",
       "      <td>1179.969971</td>\n",
       "    </tr>\n",
       "    <tr>\n",
       "      <th>2017-03-31</th>\n",
       "      <td>1247.3</td>\n",
       "      <td>244.524</td>\n",
       "      <td>2362.72</td>\n",
       "      <td>1071.790039</td>\n",
       "    </tr>\n",
       "    <tr>\n",
       "      <th>2017-04-30</th>\n",
       "      <td>1253.3</td>\n",
       "      <td>244.733</td>\n",
       "      <td>2384.20</td>\n",
       "      <td>1316.479980</td>\n",
       "    </tr>\n",
       "    <tr>\n",
       "      <th>2017-05-31</th>\n",
       "      <td>1267.0</td>\n",
       "      <td>244.955</td>\n",
       "      <td>2411.80</td>\n",
       "      <td>2286.409912</td>\n",
       "    </tr>\n",
       "  </tbody>\n",
       "</table>\n",
       "</div>"
      ],
      "text/plain": [
       "            Adj Close_gold      cpi  Adj Close_sp500  Adj Close_btc\n",
       "Date                                                               \n",
       "2017-01-31          1208.6  243.603          2278.87     970.403015\n",
       "2017-02-28          1252.6  243.801          2363.64    1179.969971\n",
       "2017-03-31          1247.3  244.524          2362.72    1071.790039\n",
       "2017-04-30          1253.3  244.733          2384.20    1316.479980\n",
       "2017-05-31          1267.0  244.955          2411.80    2286.409912"
      ]
     },
     "execution_count": 26,
     "metadata": {},
     "output_type": "execute_result"
    }
   ],
   "source": [
    "monthly_data.head()"
   ]
  },
  {
   "cell_type": "markdown",
   "id": "0d52950b",
   "metadata": {},
   "source": [
    "## 2.1 Initial Analysis"
   ]
  },
  {
   "cell_type": "code",
   "execution_count": 27,
   "id": "35b530a5",
   "metadata": {},
   "outputs": [],
   "source": [
    "#Calculate standardized return indices\n",
    "monthly_data_std=monthly_data*100/monthly_data.iloc[0]\n",
    "monthly_data_std.head()\n",
    "\n",
    "# Remove the inflation data from comparison analysis\n",
    "monthly_data_inf=monthly_data.copy()\n",
    "monthly_data.drop('cpi', axis=1, inplace=True)"
   ]
  },
  {
   "cell_type": "code",
   "execution_count": 28,
   "id": "dea1e725",
   "metadata": {},
   "outputs": [],
   "source": [
    "plt.style.use('ggplot')"
   ]
  },
  {
   "cell_type": "code",
   "execution_count": 29,
   "id": "d61b9281",
   "metadata": {},
   "outputs": [
    {
     "data": {
      "image/png": "[encoded data removed]",
      "text/plain": [
       "<Figure size 1440x576 with 2 Axes>"
      ]
     },
     "metadata": {},
     "output_type": "display_data"
    }
   ],
   "source": [
    "fig, ax=plt.subplots(1,2, figsize=(20,8))\n",
    "\n",
    "monthly_data_std[['Adj Close_gold', 'Adj Close_sp500', 'Adj Close_btc']].plot(ax=ax[0])\n",
    "ax[0].set_title('Linear Scale')\n",
    "ax[0].legend(['Gold', 'S&P500', 'BTC'], facecolor='white', loc=2)\n",
    "\n",
    "monthly_data_std[['Adj Close_gold', 'Adj Close_sp500', 'Adj Close_btc']].plot(ax=ax[1], logy=True)\n",
    "ax[1].set_title('Log Scale')\n",
    "ax[1].legend(['Gold', 'S&P500', 'BTC'], facecolor='white', loc=2)\n",
    "\n",
    "plt.suptitle(\"Fig 1: Assets' Performance\", size=18)\n",
    "\n",
    "plt.show()"
   ]
  },
  {
   "cell_type": "markdown",
   "id": "042bd653",
   "metadata": {},
   "source": [
    "### Finding 1:\n",
    "Figure 1 shows the strong outperformance of BTC over the investigated period. Figure 1 also shows that S&P500 performed better than Gold, overall, throughout the investigated period."
   ]
  },
  {
   "cell_type": "markdown",
   "id": "3ea2d658",
   "metadata": {},
   "source": [
    "## 2.2 Comparison of Asset Returns"
   ]
  },
  {
   "cell_type": "markdown",
   "id": "b85c30b0",
   "metadata": {},
   "source": [
    "### Monthly returns"
   ]
  },
  {
   "cell_type": "code",
   "execution_count": 30,
   "id": "c0d91532",
   "metadata": {},
   "outputs": [],
   "source": [
    "monthly_returns=monthly_data.pct_change().dropna()\n",
    "monthly_returns.columns=['Gold', 'SP500', 'BTC']"
   ]
  },
  {
   "cell_type": "markdown",
   "id": "d3453124",
   "metadata": {},
   "source": [
    "In order to analyze the probability of outliers in returns, it is helpful to visualize the historical returns using a histogram"
   ]
  },
  {
   "cell_type": "markdown",
   "id": "95d4b09d",
   "metadata": {},
   "source": [
    "#### Distribution of monthly returns"
   ]
  },
  {
   "cell_type": "code",
   "execution_count": 139,
   "id": "7455e925",
   "metadata": {},
   "outputs": [
    {
     "data": {
      "image/png": "[encoded data removed]",
      "text/plain": [
       "<Figure size 540x540 with 12 Axes>"
      ]
     },
     "metadata": {},
     "output_type": "display_data"
    }
   ],
   "source": [
    "sns.pairplot(monthly_returns, diag_kind='hist')\n",
    "plt.title(\"Fig 2: Pairplot of Assets' Monthly Returns\", loc='left', pad=350)\n",
    "plt.show()"
   ]
  },
  {
   "cell_type": "code",
   "execution_count": 32,
   "id": "eacb8535",
   "metadata": {},
   "outputs": [
    {
     "name": "stdout",
     "output_type": "stream",
     "text": [
      "Skewness \n",
      " Gold     0.445596\n",
      "SP500   -0.454930\n",
      "BTC      0.534677\n",
      "dtype: float64 \n",
      "\n",
      "Kurtosis \n",
      " Gold     0.075932\n",
      "SP500    0.311811\n",
      "BTC     -0.289172\n",
      "dtype: float64 \n",
      "\n",
      "The normality test result for gold is ShapiroResult(statistic=0.977425754070282, pvalue=0.22935746610164642)\n",
      "The normality test result for s&p500 is ShapiroResult(statistic=0.9672618508338928, pvalue=0.060571566224098206)\n",
      "The normality test result for btc is ShapiroResult(statistic=0.9638887643814087, pvalue=0.03891528397798538)\n",
      "\n",
      "\n",
      "The p-values show that among the three assets only the distribution of Bitcoin's monthly return is non-normal\n"
     ]
    }
   ],
   "source": [
    "# Measure the Skewness\n",
    "print('Skewness', '\\n', monthly_returns.skew(), '\\n')\n",
    "\n",
    "# Measure the Kurtosis\n",
    "print('Kurtosis','\\n', monthly_returns.kurtosis(), '\\n')\n",
    "\n",
    "# Normality test\n",
    "from scipy.stats import shapiro\n",
    "monthly_returns\n",
    "\n",
    "print(f\"The normality test result for gold is {shapiro(monthly_returns['Gold'])}\")\n",
    "print(f\"The normality test result for s&p500 is {shapiro(monthly_returns['SP500'])}\")\n",
    "print(f\"The normality test result for btc is {shapiro(monthly_returns['BTC'])}\")\n",
    "print('\\n')\n",
    "print(\"The p-values show that among the three assets only the distribution of Bitcoin's monthly return is non-normal\")"
   ]
  },
  {
   "cell_type": "markdown",
   "id": "95b22af2",
   "metadata": {},
   "source": [
    "### Annualized total returns"
   ]
  },
  {
   "cell_type": "code",
   "execution_count": 33,
   "id": "acea2e8f",
   "metadata": {},
   "outputs": [
    {
     "name": "stdout",
     "output_type": "stream",
     "text": [
      "Gold      0.505626\n",
      "SP500     0.689118\n",
      "BTC      16.149928\n",
      "dtype: float64 \n",
      "\n"
     ]
    },
    {
     "data": {
      "text/plain": [
       "Gold     0.071610\n",
       "SP500    0.092642\n",
       "BTC      0.616619\n",
       "dtype: float64"
      ]
     },
     "metadata": {},
     "output_type": "display_data"
    }
   ],
   "source": [
    "# Calculate period performance\n",
    "total_return= (monthly_data.iloc[-1]-monthly_data.iloc[0])/monthly_data.iloc[0]\n",
    "total_return.index=['Gold', 'SP500', 'BTC']\n",
    "print(total_return, '\\n')\n",
    "\n",
    "# Annualized total returns\n",
    "annualized_return=((1+total_return)**(12/len(monthly_returns)))-1\n",
    "annualized_return.index=['Gold', 'SP500', 'BTC']\n",
    "display(annualized_return)"
   ]
  },
  {
   "cell_type": "markdown",
   "id": "28a080f9",
   "metadata": {},
   "source": [
    "### Comparison of asset returns"
   ]
  },
  {
   "cell_type": "code",
   "execution_count": 34,
   "id": "45407afd",
   "metadata": {},
   "outputs": [],
   "source": [
    "# Annual dataframe for performance comparison\n",
    "annual_data=monthly_data.resample('Y').last()\n",
    "annual_return=annual_data.pct_change().mul(100).iloc[1:]"
   ]
  },
  {
   "cell_type": "code",
   "execution_count": 35,
   "id": "e7210d87",
   "metadata": {},
   "outputs": [
    {
     "data": {
      "text/html": [
       "<div>\n",
       "<style scoped>\n",
       "    .dataframe tbody tr th:only-of-type {\n",
       "        vertical-align: middle;\n",
       "    }\n",
       "\n",
       "    .dataframe tbody tr th {\n",
       "        vertical-align: top;\n",
       "    }\n",
       "\n",
       "    .dataframe thead th {\n",
       "        text-align: right;\n",
       "    }\n",
       "</style>\n",
       "<table border=\"1\" class=\"dataframe\">\n",
       "  <thead>\n",
       "    <tr style=\"text-align: right;\">\n",
       "      <th></th>\n",
       "      <th>asset</th>\n",
       "      <th>return</th>\n",
       "      <th>year</th>\n",
       "    </tr>\n",
       "  </thead>\n",
       "  <tbody>\n",
       "    <tr>\n",
       "      <th>0</th>\n",
       "      <td>Gold</td>\n",
       "      <td>-2.143459</td>\n",
       "      <td>2018</td>\n",
       "    </tr>\n",
       "    <tr>\n",
       "      <th>1</th>\n",
       "      <td>Gold</td>\n",
       "      <td>18.868810</td>\n",
       "      <td>2019</td>\n",
       "    </tr>\n",
       "    <tr>\n",
       "      <th>2</th>\n",
       "      <td>Gold</td>\n",
       "      <td>24.587035</td>\n",
       "      <td>2020</td>\n",
       "    </tr>\n",
       "    <tr>\n",
       "      <th>3</th>\n",
       "      <td>Gold</td>\n",
       "      <td>-3.465216</td>\n",
       "      <td>2021</td>\n",
       "    </tr>\n",
       "    <tr>\n",
       "      <th>4</th>\n",
       "      <td>Gold</td>\n",
       "      <td>-0.426813</td>\n",
       "      <td>2022</td>\n",
       "    </tr>\n",
       "  </tbody>\n",
       "</table>\n",
       "</div>"
      ],
      "text/plain": [
       "  asset     return  year\n",
       "0  Gold  -2.143459  2018\n",
       "1  Gold  18.868810  2019\n",
       "2  Gold  24.587035  2020\n",
       "3  Gold  -3.465216  2021\n",
       "4  Gold  -0.426813  2022"
      ]
     },
     "execution_count": 35,
     "metadata": {},
     "output_type": "execute_result"
    }
   ],
   "source": [
    "# Plot them\n",
    "annual_return_long=annual_return.melt(var_name='asset', value_name='return', ignore_index=False)\n",
    "annual_return_long['year']=annual_return_long.index.year\n",
    "annual_return_long.reset_index(inplace=True, drop=True)\n",
    "annual_return_long.asset.replace({'Adj Close_gold':'Gold', 'Adj Close_btc': 'BTC', 'Adj Close_sp500': 'S&P500'}, inplace=True)\n",
    "annual_return_long.head()"
   ]
  },
  {
   "cell_type": "code",
   "execution_count": 36,
   "id": "a9363952",
   "metadata": {},
   "outputs": [
    {
     "data": {
      "image/png": "[encoded data removed]",
      "text/plain": [
       "<Figure size 1080x720 with 1 Axes>"
      ]
     },
     "metadata": {},
     "output_type": "display_data"
    }
   ],
   "source": [
    "fig, ax=plt.subplots(figsize=(15, 10))\n",
    "sns.barplot(data=annual_return_long, x='year', y='return', hue='asset', ax=ax)\n",
    "ax.bar_label(ax.containers[0], fmt='%.1f%%')\n",
    "ax.bar_label(ax.containers[1], fmt='%.1f%%')\n",
    "ax.bar_label(ax.containers[2], fmt='%.1f%%')\n",
    "plt.legend()\n",
    "ax.set_xlabel('Year')\n",
    "ax.set_ylabel('Annualized Total Return')\n",
    "ax.set_title('Fig 3: Returns by Year')\n",
    "plt.show()"
   ]
  },
  {
   "cell_type": "markdown",
   "id": "26e8606b",
   "metadata": {},
   "source": [
    "### Finding 2:\n",
    "As can be seen in Figure 2, BTC outperfored in 2019, 2020, and 2021. On the other hand, BTC had losed a lot in 2018 and 2022"
   ]
  },
  {
   "cell_type": "markdown",
   "id": "8f91d4f6",
   "metadata": {},
   "source": [
    "## 2.3 Risks and volatilities"
   ]
  },
  {
   "cell_type": "markdown",
   "id": "85431703",
   "metadata": {},
   "source": [
    "#### 1. Sharpe Ratio"
   ]
  },
  {
   "cell_type": "code",
   "execution_count": 37,
   "id": "ad5895de",
   "metadata": {},
   "outputs": [
    {
     "name": "stdout",
     "output_type": "stream",
     "text": [
      "Gold     0.120892\n",
      "SP500    0.172261\n",
      "BTC      0.902199\n",
      "dtype: float64\n",
      "\n",
      "\n",
      "\u001b[1m\u001b[34mSharpe Ratios\u001b[0m\n",
      "Gold     0.592344\n",
      "SP500    0.537799\n",
      "BTC      0.683462\n",
      "dtype: float64\n"
     ]
    }
   ],
   "source": [
    "# Calculate the standard deviation and sharpe ratio\n",
    "# We perform it based on the monthly return\n",
    "monthly_returns_std_annualized=monthly_returns.std()*np.sqrt(12)\n",
    "print(monthly_returns_std_annualized)\n",
    "print('\\n')\n",
    "\n",
    "# Calculate the Sharpe ratio by considering the risk free rate to be 0\n",
    "assets_sharpe=annualized_return/monthly_returns_std_annualized\n",
    "print(colored('Sharpe Ratios', color='blue', attrs=['bold']))\n",
    "print(assets_sharpe)"
   ]
  },
  {
   "cell_type": "markdown",
   "id": "7b939ca9",
   "metadata": {},
   "source": [
    "### Finding 3.1:\n",
    "The risk-adjusted return, as measured by Sharpe ratio, shows that it is worth the risk to invest on BTC."
   ]
  },
  {
   "cell_type": "markdown",
   "id": "ce45146e",
   "metadata": {},
   "source": [
    "#### 2. Maximum drawdown"
   ]
  },
  {
   "cell_type": "code",
   "execution_count": 141,
   "id": "3b0bbff0",
   "metadata": {},
   "outputs": [
    {
     "data": {
      "image/png": "[encoded data removed]",
      "text/plain": [
       "<Figure size 432x288 with 1 Axes>"
      ]
     },
     "metadata": {},
     "output_type": "display_data"
    },
    {
     "name": "stdout",
     "output_type": "stream",
     "text": [
      "\u001b[1m\u001b[34mMax monthly drawdown\u001b[0m\n",
      "Adj Close_gold    -0.142827\n",
      "Adj Close_sp500   -0.247695\n",
      "Adj Close_btc     -0.725900\n",
      "dtype: float64\n"
     ]
    }
   ],
   "source": [
    "# Calculate the Maximum draw-down: The largest change from the PEAK in one month over a 12-month window\n",
    "## Calculate the rolling maximum values and monthly draw-downs\n",
    "roll_max=monthly_data.rolling(window=12, min_periods=1).max()\n",
    "## Calculate the monthly draw-down from the rolling max\n",
    "monthly_drawdown=(monthly_data-roll_max)/roll_max\n",
    "## Calculate the maximum monthly draw-down\n",
    "max_monthly_drawdown=monthly_drawdown.rolling(window=12, min_periods=1).min()\n",
    "\n",
    "# plot them\n",
    "monthly_drawdown.plot()\n",
    "plt.title('Fig4: Monthly Drawdown')\n",
    "plt.show()\n",
    "\n",
    "print(colored('Max monthly drawdown', color='blue', attrs=['bold']))\n",
    "print(monthly_drawdown.min())"
   ]
  },
  {
   "cell_type": "markdown",
   "id": "07efef02",
   "metadata": {},
   "source": [
    "### Finding 3.2:\n",
    "The maximum drawdown plot shows that there was a significant difference between the monthly drawdown between the three assets, where BTC has the most significant one with around -73% and gold had the lowest with about -14%. This indicates that the investing on BTC is much riskier based on the historical data."
   ]
  },
  {
   "cell_type": "markdown",
   "id": "f0a8fd2e",
   "metadata": {},
   "source": [
    "#### 3. Historical VaR"
   ]
  },
  {
   "cell_type": "code",
   "execution_count": 142,
   "id": "e06e348c",
   "metadata": {},
   "outputs": [
    {
     "name": "stdout",
     "output_type": "stream",
     "text": [
      "['Gold' 'SP500' 'BTC']\n",
      "[ -3.774736    -8.60335941 -30.67302037]\n"
     ]
    },
    {
     "data": {
      "image/png": "[encoded data removed]",
      "text/plain": [
       "<Figure size 1440x360 with 3 Axes>"
      ]
     },
     "metadata": {},
     "output_type": "display_data"
    }
   ],
   "source": [
    "# Calculate the monthly returns in percent\n",
    "monthly_returns_percent=monthly_returns*100\n",
    "# Calculate the historical VaR(95)\n",
    "var_95=np.percentile(monthly_returns_percent,5, axis=0)\n",
    "print(monthly_returns_percent.columns.values)\n",
    "print(var_95)\n",
    "\n",
    "sorted_rets_btc=sorted(monthly_returns_percent['BTC'])\n",
    "sorted_rets_sp500=sorted(monthly_returns_percent['SP500'])\n",
    "sorted_rets_gold=sorted(monthly_returns_percent['Gold'])\n",
    "\n",
    "fig, ax=plt.subplots(1,3, figsize=(20, 5))\n",
    "sns.histplot(sorted_rets_btc, stat='probability', kde=True, ax=ax[0], label='BTC')\n",
    "ax[0].axvline(x=var_95[2], color='r')\n",
    "ax[0].set_title('BTC')\n",
    "ax[0].set_xlabel('Returns(%)')\n",
    "sns.histplot(sorted_rets_sp500, stat='probability', kde=True, ax=ax[1], label='S&P500')\n",
    "ax[1].axvline(x=var_95[1], color='r')\n",
    "ax[1].set_title('S&P500')\n",
    "ax[1].set_xlabel('Returns(%)')\n",
    "sns.histplot(sorted_rets_gold, stat='probability', kde=True, ax=ax[2], label='Gold')\n",
    "ax[2].axvline(x=var_95[0], color='r')\n",
    "ax[2].set_title('Gold')\n",
    "ax[2].set_xlabel('Returns(%)')\n",
    "plt.suptitle('Fig 5: Historical Distribution of Returns', size=20)\n",
    "plt.show()"
   ]
  },
  {
   "cell_type": "markdown",
   "id": "a049a428",
   "metadata": {},
   "source": [
    "### Finding 3.3:\n",
    "Acknowledging the shortcomings of volatility as a risk measure (e.g. it captures upside volatility as well, which might actually be desirable), we add the historic Value-at-Risk (VaR) for the 95% confidence interval: Bitcoin's VaR of -30.7% has been more than 3-times that of S&P500, and more than 8-times that of gold."
   ]
  },
  {
   "cell_type": "markdown",
   "id": "feff6723",
   "metadata": {},
   "source": [
    "#### 4. Historical Expected Shortfall CVaR"
   ]
  },
  {
   "cell_type": "code",
   "execution_count": 143,
   "id": "23bb0d62",
   "metadata": {},
   "outputs": [
    {
     "name": "stdout",
     "output_type": "stream",
     "text": [
      "-35.86292076705496\n",
      "-9.956217434892565\n",
      "-5.659114599495971\n"
     ]
    },
    {
     "data": {
      "image/png": "[encoded data removed]",
      "text/plain": [
       "<Figure size 1440x360 with 3 Axes>"
      ]
     },
     "metadata": {},
     "output_type": "display_data"
    }
   ],
   "source": [
    "# Calculate CVaR(95)\n",
    "cvar_95_btc=monthly_returns_percent.loc[monthly_returns_percent.BTC<np.percentile(monthly_returns_percent.BTC,5), 'BTC'].mean()\n",
    "print(cvar_95_btc)\n",
    "\n",
    "cvar_95_sp500=monthly_returns_percent.loc[monthly_returns_percent.SP500<np.percentile(monthly_returns_percent.SP500,5), 'SP500'].mean()\n",
    "print(cvar_95_sp500)\n",
    "\n",
    "cvar_95_gold=monthly_returns_percent.loc[monthly_returns_percent.Gold<np.percentile(monthly_returns_percent.Gold,5), 'Gold'].mean()\n",
    "print(cvar_95_gold)\n",
    "\n",
    "fig, ax=plt.subplots(1,3, figsize=(20, 5))\n",
    "sns.histplot(sorted_rets_btc, stat='probability', kde=True, ax=ax[0], label='BTC')\n",
    "ax[0].axvline(x=var_95[2], color='r')\n",
    "ax[0].axvline(x=cvar_95_btc, color='b')\n",
    "ax[0].set_title('BTC')\n",
    "ax[0].set_xlabel('Returns(%)')\n",
    "sns.histplot(sorted_rets_sp500, stat='probability', kde=True, ax=ax[1], label='S&P500')\n",
    "ax[1].axvline(x=var_95[1], color='r')\n",
    "ax[1].axvline(x=cvar_95_sp500, color='b')\n",
    "ax[1].set_title('S&P500')\n",
    "ax[1].set_xlabel('Returns(%)')\n",
    "sns.histplot(sorted_rets_gold, stat='probability', kde=True, ax=ax[2], label='Gold')\n",
    "ax[2].axvline(x=var_95[0], color='r')\n",
    "ax[2].axvline(x=cvar_95_gold, color='b')\n",
    "ax[2].set_title('Gold')\n",
    "ax[2].set_xlabel('Returns(%)')\n",
    "plt.suptitle('Fig 6: Historical Distribution of Returns', size=20)\n",
    "plt.show()"
   ]
  },
  {
   "cell_type": "markdown",
   "id": "ae9b190b",
   "metadata": {},
   "source": [
    "### Finding 3.4:\n",
    "Expected shortfall measures the mean loss below the VaR and gives another indication of Bitcoin's significant tail risk: -36% for Bitcoin vs. -10% for S&P500 and -6% for gold."
   ]
  },
  {
   "cell_type": "markdown",
   "id": "94d23bd2",
   "metadata": {},
   "source": [
    "#### Table"
   ]
  },
  {
   "cell_type": "code",
   "execution_count": 76,
   "id": "c31fbbef",
   "metadata": {},
   "outputs": [
    {
     "data": {
      "text/html": [
       "<div>\n",
       "<style scoped>\n",
       "    .dataframe tbody tr th:only-of-type {\n",
       "        vertical-align: middle;\n",
       "    }\n",
       "\n",
       "    .dataframe tbody tr th {\n",
       "        vertical-align: top;\n",
       "    }\n",
       "\n",
       "    .dataframe thead th {\n",
       "        text-align: right;\n",
       "    }\n",
       "</style>\n",
       "<table border=\"1\" class=\"dataframe\">\n",
       "  <thead>\n",
       "    <tr style=\"text-align: right;\">\n",
       "      <th></th>\n",
       "      <th>Gold</th>\n",
       "      <th>SP500</th>\n",
       "      <th>BTC</th>\n",
       "    </tr>\n",
       "  </thead>\n",
       "  <tbody>\n",
       "    <tr>\n",
       "      <th>Annual return (in %)</th>\n",
       "      <td>7.2</td>\n",
       "      <td>9.3</td>\n",
       "      <td>61.7</td>\n",
       "    </tr>\n",
       "    <tr>\n",
       "      <th>Annual volatility (in %)</th>\n",
       "      <td>12.1</td>\n",
       "      <td>17.2</td>\n",
       "      <td>90.2</td>\n",
       "    </tr>\n",
       "    <tr>\n",
       "      <th>Sharpe ratio</th>\n",
       "      <td>0.6</td>\n",
       "      <td>0.5</td>\n",
       "      <td>0.7</td>\n",
       "    </tr>\n",
       "    <tr>\n",
       "      <th>Max. drawdown (mthly, in %)</th>\n",
       "      <td>-0.1</td>\n",
       "      <td>-0.2</td>\n",
       "      <td>-0.7</td>\n",
       "    </tr>\n",
       "    <tr>\n",
       "      <th>VaR(95) (in %)</th>\n",
       "      <td>-3.8</td>\n",
       "      <td>-8.6</td>\n",
       "      <td>-30.7</td>\n",
       "    </tr>\n",
       "    <tr>\n",
       "      <th>CVaR(5) / Expected shortfall (in %)</th>\n",
       "      <td>-5.7</td>\n",
       "      <td>-10.0</td>\n",
       "      <td>-35.9</td>\n",
       "    </tr>\n",
       "  </tbody>\n",
       "</table>\n",
       "</div>"
      ],
      "text/plain": [
       "                                     Gold  SP500   BTC\n",
       "Annual return (in %)                  7.2    9.3  61.7\n",
       "Annual volatility (in %)             12.1   17.2  90.2\n",
       "Sharpe ratio                          0.6    0.5   0.7\n",
       "Max. drawdown (mthly, in %)          -0.1   -0.2  -0.7\n",
       "VaR(95) (in %)                       -3.8   -8.6 -30.7\n",
       "CVaR(5) / Expected shortfall (in %)  -5.7  -10.0 -35.9"
      ]
     },
     "metadata": {},
     "output_type": "display_data"
    }
   ],
   "source": [
    "Stats=pd.DataFrame({'Annual return (in %)':np.round(annualized_return.values*100,1),\n",
    "      'Annual volatility (in %)':np.round(monthly_returns_std_annualized.values*100,1),\n",
    "      'Sharpe ratio':np.round(assets_sharpe.values,1),\n",
    "      'Max. drawdown (mthly, in %)':np.round(monthly_drawdown.min().values,1),\n",
    "      'VaR(95) (in %)': np.round(np.array(var_95),1),\n",
    "      'CVaR(5) / Expected shortfall (in %)': np.round(np.array([cvar_95_gold,cvar_95_sp500,cvar_95_btc]),1)\n",
    "      }).T\n",
    "Stats.columns=['Gold', 'SP500', 'BTC']\n",
    "display(Stats)"
   ]
  },
  {
   "cell_type": "markdown",
   "id": "ffea4dda",
   "metadata": {},
   "source": [
    "### Finding 3.5:\n",
    "Overall, investing on BTC comes with a higher risk compared to S&P500 and gold. But still, the Sharpe ratio shows that is is worth tp take that risk at some level."
   ]
  },
  {
   "cell_type": "markdown",
   "id": "1e77004c",
   "metadata": {},
   "source": [
    "## 2.4 Assets Correlation"
   ]
  },
  {
   "cell_type": "code",
   "execution_count": 144,
   "id": "897e27ed",
   "metadata": {},
   "outputs": [
    {
     "data": {
      "text/html": [
       "<div>\n",
       "<style scoped>\n",
       "    .dataframe tbody tr th:only-of-type {\n",
       "        vertical-align: middle;\n",
       "    }\n",
       "\n",
       "    .dataframe tbody tr th {\n",
       "        vertical-align: top;\n",
       "    }\n",
       "\n",
       "    .dataframe thead th {\n",
       "        text-align: right;\n",
       "    }\n",
       "</style>\n",
       "<table border=\"1\" class=\"dataframe\">\n",
       "  <thead>\n",
       "    <tr style=\"text-align: right;\">\n",
       "      <th></th>\n",
       "      <th>Gold</th>\n",
       "      <th>US_CPI</th>\n",
       "      <th>SP500</th>\n",
       "      <th>BTC</th>\n",
       "    </tr>\n",
       "  </thead>\n",
       "  <tbody>\n",
       "    <tr>\n",
       "      <th>Gold</th>\n",
       "      <td>1.00</td>\n",
       "      <td>0.03</td>\n",
       "      <td>0.14</td>\n",
       "      <td>0.14</td>\n",
       "    </tr>\n",
       "    <tr>\n",
       "      <th>US_CPI</th>\n",
       "      <td>0.03</td>\n",
       "      <td>1.00</td>\n",
       "      <td>0.03</td>\n",
       "      <td>-0.02</td>\n",
       "    </tr>\n",
       "    <tr>\n",
       "      <th>SP500</th>\n",
       "      <td>0.14</td>\n",
       "      <td>0.03</td>\n",
       "      <td>1.00</td>\n",
       "      <td>0.32</td>\n",
       "    </tr>\n",
       "    <tr>\n",
       "      <th>BTC</th>\n",
       "      <td>0.14</td>\n",
       "      <td>-0.02</td>\n",
       "      <td>0.32</td>\n",
       "      <td>1.00</td>\n",
       "    </tr>\n",
       "  </tbody>\n",
       "</table>\n",
       "</div>"
      ],
      "text/plain": [
       "        Gold  US_CPI  SP500   BTC\n",
       "Gold    1.00    0.03   0.14  0.14\n",
       "US_CPI  0.03    1.00   0.03 -0.02\n",
       "SP500   0.14    0.03   1.00  0.32\n",
       "BTC     0.14   -0.02   0.32  1.00"
      ]
     },
     "metadata": {},
     "output_type": "display_data"
    },
    {
     "data": {
      "image/png": "[encoded data removed]",
      "text/plain": [
       "<Figure size 432x288 with 2 Axes>"
      ]
     },
     "metadata": {},
     "output_type": "display_data"
    }
   ],
   "source": [
    "#Calculate correlation matrix on monthly changes\n",
    "monthly_data_inf.columns=['Gold', 'US_CPI', 'SP500', 'BTC']\n",
    "cor=monthly_data_inf.pct_change().corr().round(2)\n",
    "display(cor)\n",
    "sns.heatmap(cor, annot=True, cmap=\"crest\")\n",
    "plt.title('Fig 7: Monthly Changes Correlation Matrix')\n",
    "plt.show()"
   ]
  },
  {
   "cell_type": "code",
   "execution_count": 145,
   "id": "54f97d05",
   "metadata": {},
   "outputs": [
    {
     "name": "stderr",
     "output_type": "stream",
     "text": [
      "C:\\Users\\sd694\\AppData\\Local\\Temp/ipykernel_72500/900962103.py:3: UserWarning: FixedFormatter should only be used together with FixedLocator\n",
      "  ax[0].set_xticklabels(['{0:.1f}%'.format(x) for x in ax[0].get_xticks()])\n",
      "C:\\Users\\sd694\\AppData\\Local\\Temp/ipykernel_72500/900962103.py:4: UserWarning: FixedFormatter should only be used together with FixedLocator\n",
      "  ax[0].set_yticklabels(['{0:.1f}%'.format(x) for x in ax[0].get_yticks()])\n",
      "C:\\Users\\sd694\\AppData\\Local\\Temp/ipykernel_72500/900962103.py:7: UserWarning: FixedFormatter should only be used together with FixedLocator\n",
      "  ax[1].set_xticklabels(['{0:.1f}%'.format(x) for x in ax[1].get_xticks()])\n",
      "C:\\Users\\sd694\\AppData\\Local\\Temp/ipykernel_72500/900962103.py:8: UserWarning: FixedFormatter should only be used together with FixedLocator\n",
      "  ax[1].set_yticklabels(['{0:.1f}%'.format(x) for x in ax[1].get_yticks()])\n",
      "C:\\Users\\sd694\\AppData\\Local\\Temp/ipykernel_72500/900962103.py:11: UserWarning: FixedFormatter should only be used together with FixedLocator\n",
      "  ax[2].set_xticklabels(['{0:.1f}%'.format(x) for x in ax[2].get_xticks()])\n",
      "C:\\Users\\sd694\\AppData\\Local\\Temp/ipykernel_72500/900962103.py:12: UserWarning: FixedFormatter should only be used together with FixedLocator\n",
      "  ax[2].set_yticklabels(['{0:.1f}%'.format(x) for x in ax[2].get_yticks()])\n"
     ]
    },
    {
     "data": {
      "image/png": "[encoded data removed]",
      "text/plain": [
       "<Figure size 1440x360 with 3 Axes>"
      ]
     },
     "metadata": {},
     "output_type": "display_data"
    }
   ],
   "source": [
    "fig, ax=plt.subplots(1,3, figsize=(20,5))\n",
    "sns.regplot(y='SP500', x='BTC', data=monthly_data_inf.pct_change()*100, ci=None, scatter_kws={'color':'green'}, ax=ax[0])\n",
    "ax[0].set_xticklabels(['{0:.1f}%'.format(x) for x in ax[0].get_xticks()])\n",
    "ax[0].set_yticklabels(['{0:.1f}%'.format(x) for x in ax[0].get_yticks()])\n",
    "\n",
    "sns.regplot(y='SP500', x='US_CPI', data=monthly_data_inf.pct_change()*100, ci=None, scatter_kws={'color':'green'}, ax=ax[1])\n",
    "ax[1].set_xticklabels(['{0:.1f}%'.format(x) for x in ax[1].get_xticks()])\n",
    "ax[1].set_yticklabels(['{0:.1f}%'.format(x) for x in ax[1].get_yticks()])\n",
    "\n",
    "sns.regplot(y='BTC', x='US_CPI', data=monthly_data_inf.pct_change()*100, ci=None, scatter_kws={'color':'green'}, ax=ax[2])\n",
    "ax[2].set_xticklabels(['{0:.1f}%'.format(x) for x in ax[2].get_xticks()])\n",
    "ax[2].set_yticklabels(['{0:.1f}%'.format(x) for x in ax[2].get_yticks()])\n",
    "plt.suptitle('Fig 8: S&P500, BTC, and inflastion')\n",
    "\n",
    "plt.show()"
   ]
  },
  {
   "cell_type": "markdown",
   "id": "87d751f7",
   "metadata": {},
   "source": [
    "### Finding 4:\n",
    "The scatterplot of monthly changes (right chart in figure 8) as well as the correlation coefficient of close to zero (figure 7) suggest that there has been no consistent relationship between changes in the price of Bitcoin and inflation since 2017. In itself Bitcoin does not offer good hedging properties against inflation, as it has been largely uncorrelated to changes in the general price level. It seems neither positively nor negatively affected by inflation.\n",
    "\n",
    "It's also worth noting the positive correlation between the S&P 500 and Bitcoin. A correlation coefficient of 0.3 suggests that Bitcoin tends to move in the same direction as equities, thus offering only limited diversification benefits in a portfolio with equities."
   ]
  },
  {
   "cell_type": "code",
   "execution_count": null,
   "id": "bd713453",
   "metadata": {},
   "outputs": [],
   "source": []
  }
 ],
 "metadata": {
  "kernelspec": {
   "display_name": "Python 3 (ipykernel)",
   "language": "python",
   "name": "python3"
  },
  "language_info": {
   "codemirror_mode": {
    "name": "ipython",
    "version": 3
   },
   "file_extension": ".py",
   "mimetype": "text/x-python",
   "name": "python",
   "nbconvert_exporter": "python",
   "pygments_lexer": "ipython3",
   "version": "3.9.7"
  }
 },
 "nbformat": 4,
 "nbformat_minor": 5
}
